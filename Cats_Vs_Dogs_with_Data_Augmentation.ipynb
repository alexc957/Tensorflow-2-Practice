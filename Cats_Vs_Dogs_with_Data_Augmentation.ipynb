{
  "nbformat": 4,
  "nbformat_minor": 0,
  "metadata": {
    "accelerator": "GPU",
    "colab": {
      "name": "Cats Vs Dogs with Data Augmentation.ipynb",
      "provenance": [],
      "collapsed_sections": [],
      "authorship_tag": "ABX9TyM9naUZ5zRsGuf+qAYoI/XG",
      "include_colab_link": true
    },
    "kernelspec": {
      "display_name": "Python 3",
      "name": "python3"
    }
  },
  "cells": [
    {
      "cell_type": "markdown",
      "metadata": {
        "id": "view-in-github",
        "colab_type": "text"
      },
      "source": [
        "<a href=\"https://colab.research.google.com/github/alexc957/Tensorflow-2-Practice/blob/Practice/Cats_Vs_Dogs_with_Data_Augmentation.ipynb\" target=\"_parent\"><img src=\"https://colab.research.google.com/assets/colab-badge.svg\" alt=\"Open In Colab\"/></a>"
      ]
    },
    {
      "cell_type": "markdown",
      "metadata": {
        "id": "mpy7ROvTpAzZ"
      },
      "source": [
        "#### Import the necesary libraries "
      ]
    },
    {
      "cell_type": "code",
      "metadata": {
        "id": "JQtFWmBYog9E"
      },
      "source": [
        "import os\n",
        "import zipfile\n",
        "import random\n",
        "import tensorflow as tf\n",
        "from tensorflow.keras.optimizers import RMSprop\n",
        "from tensorflow.keras.preprocessing.image import ImageDataGenerator\n",
        "from shutil import copyfile"
      ],
      "execution_count": 1,
      "outputs": []
    },
    {
      "cell_type": "markdown",
      "metadata": {
        "id": "LlT_hY2ZpI_3"
      },
      "source": [
        "#### download the data and extract it in directory "
      ]
    },
    {
      "cell_type": "code",
      "metadata": {
        "id": "epk7kkGPpHG0",
        "outputId": "4de68271-c16c-40fc-bbbe-5fb1430ef3f9",
        "colab": {
          "base_uri": "https://localhost:8080/",
          "height": 202
        }
      },
      "source": [
        "!wget --no-check-certificate \\\n",
        "    \"https://download.microsoft.com/download/3/E/1/3E1C3F21-ECDB-4869-8368-6DEBA77B919F/kagglecatsanddogs_3367a.zip\" \\\n",
        "    -O \"/tmp/cats-and-dogs.zip\"\n",
        "\n",
        "local_zip = '/tmp/cats-and-dogs.zip'\n",
        "zip_ref = zipfile.ZipFile(local_zip, 'r')\n",
        "zip_ref.extractall('/tmp')\n",
        "zip_ref.close()"
      ],
      "execution_count": 2,
      "outputs": [
        {
          "output_type": "stream",
          "text": [
            "--2020-10-21 23:09:18--  https://download.microsoft.com/download/3/E/1/3E1C3F21-ECDB-4869-8368-6DEBA77B919F/kagglecatsanddogs_3367a.zip\n",
            "Resolving download.microsoft.com (download.microsoft.com)... 23.196.32.25, 2600:1408:5400:290::e59, 2600:1408:5400:293::e59\n",
            "Connecting to download.microsoft.com (download.microsoft.com)|23.196.32.25|:443... connected.\n",
            "HTTP request sent, awaiting response... 200 OK\n",
            "Length: 824894548 (787M) [application/octet-stream]\n",
            "Saving to: ‘/tmp/cats-and-dogs.zip’\n",
            "\n",
            "/tmp/cats-and-dogs. 100%[===================>] 786.68M   117MB/s    in 6.7s    \n",
            "\n",
            "2020-10-21 23:09:25 (118 MB/s) - ‘/tmp/cats-and-dogs.zip’ saved [824894548/824894548]\n",
            "\n"
          ],
          "name": "stdout"
        }
      ]
    },
    {
      "cell_type": "code",
      "metadata": {
        "id": "Tt_ROeaGpPNP",
        "outputId": "0c8e1eee-ffb9-489e-a4f4-39a525f2851d",
        "colab": {
          "base_uri": "https://localhost:8080/",
          "height": 50
        }
      },
      "source": [
        "print(len(os.listdir('/tmp/PetImages/Cat/')))\n",
        "print(len(os.listdir('/tmp/PetImages/Dog/')))"
      ],
      "execution_count": 3,
      "outputs": [
        {
          "output_type": "stream",
          "text": [
            "12501\n",
            "12501\n"
          ],
          "name": "stdout"
        }
      ]
    },
    {
      "cell_type": "markdown",
      "metadata": {
        "id": "8mcIDGy0pjF9"
      },
      "source": [
        "#### Create the directories for train and testing "
      ]
    },
    {
      "cell_type": "code",
      "metadata": {
        "id": "raXhZVX8pgul"
      },
      "source": [
        "try:\n",
        "    os.mkdir('/tmp/cats-v-dogs/')\n",
        "    os.mkdir('/tmp/cats-v-dogs/training')\n",
        "    os.mkdir('/tmp/cats-v-dogs/testing')\n",
        "    os.mkdir('/tmp/cats-v-dogs/training/cats/')\n",
        "    os.mkdir('/tmp/cats-v-dogs/testing/cats/')\n",
        "    os.mkdir('/tmp/cats-v-dogs/training/dogs/')\n",
        "    os.mkdir('/tmp/cats-v-dogs/testing/dogs/')\n",
        "except OSError:\n",
        "    pass"
      ],
      "execution_count": 4,
      "outputs": []
    },
    {
      "cell_type": "markdown",
      "metadata": {
        "id": "oP59GOmjprmu"
      },
      "source": [
        "create a function to split the data and save it in a given directory"
      ]
    },
    {
      "cell_type": "code",
      "metadata": {
        "id": "ff2ZsY06poo0"
      },
      "source": [
        "def split_data(SOURCE, TRAINING, TESTING, SPLIT_SIZE):\n",
        "\n",
        "    all_fnames = os.listdir(SOURCE)\n",
        "    all_fnames = random.sample(all_fnames, len(all_fnames))\n",
        "    split_index = round(len(all_fnames)*SPLIT_SIZE)\n",
        "    training_set = all_fnames[:split_index]\n",
        "    test_set = all_fnames[split_index:]\n",
        "    for training_image in training_set:\n",
        "        image_path = os.path.join(SOURCE,training_image)\n",
        "        if os.path.getsize(image_path)>0:\n",
        "            copyfile(image_path,os.path.join(TRAINING,training_image))\n",
        "    \n",
        "    for test_image in test_set:\n",
        "        image_path = os.path.join(SOURCE,test_image)\n",
        "        if os.path.getsize(image_path)>0:\n",
        "            copyfile(image_path,os.path.join(TESTING,test_image))\n",
        "\n",
        "\n",
        "\n",
        "CAT_SOURCE_DIR = \"/tmp/PetImages/Cat/\"\n",
        "TRAINING_CATS_DIR = \"/tmp/cats-v-dogs/training/cats/\"\n",
        "TESTING_CATS_DIR = \"/tmp/cats-v-dogs/testing/cats/\"\n",
        "DOG_SOURCE_DIR = \"/tmp/PetImages/Dog/\"\n",
        "TRAINING_DOGS_DIR = \"/tmp/cats-v-dogs/training/dogs/\"\n",
        "TESTING_DOGS_DIR = \"/tmp/cats-v-dogs/testing/dogs/\"\n",
        "\n",
        "split_size = .9\n",
        "split_data(CAT_SOURCE_DIR, TRAINING_CATS_DIR, TESTING_CATS_DIR, split_size)\n",
        "split_data(DOG_SOURCE_DIR, TRAINING_DOGS_DIR, TESTING_DOGS_DIR, split_size)"
      ],
      "execution_count": 5,
      "outputs": []
    },
    {
      "cell_type": "code",
      "metadata": {
        "id": "TohmU1ifp7R0",
        "outputId": "f3be1aed-1c92-4c97-f613-b7a16b472025",
        "colab": {
          "base_uri": "https://localhost:8080/",
          "height": 84
        }
      },
      "source": [
        "print(len(os.listdir('/tmp/cats-v-dogs/training/cats/')))\n",
        "print(len(os.listdir('/tmp/cats-v-dogs/training/dogs/')))\n",
        "print(len(os.listdir('/tmp/cats-v-dogs/testing/cats/')))\n",
        "print(len(os.listdir('/tmp/cats-v-dogs/testing/dogs/')))"
      ],
      "execution_count": 6,
      "outputs": [
        {
          "output_type": "stream",
          "text": [
            "11250\n",
            "11251\n",
            "1250\n",
            "1249\n"
          ],
          "name": "stdout"
        }
      ]
    },
    {
      "cell_type": "markdown",
      "metadata": {
        "id": "N2s1YXvgp-8W"
      },
      "source": [
        "#### Create the model and compile it"
      ]
    },
    {
      "cell_type": "code",
      "metadata": {
        "id": "GR5UwXCQqC8O"
      },
      "source": [
        "model = tf.keras.models.Sequential([\n",
        "    tf.keras.layers.Conv2D(32,(2,2), input_shape=(150,150,3),activation='relu'),\n",
        "    tf.keras.layers.MaxPooling2D(3,3),\n",
        "    tf.keras.layers.Conv2D(64,(2,2),activation='relu'),\n",
        "    tf.keras.layers.MaxPooling2D(3,3),\n",
        "    tf.keras.layers.Conv2D(128,(2,2),activation='relu'),\n",
        "    tf.keras.layers.MaxPooling2D(3,3),\n",
        "    tf.keras.layers.Flatten(),\n",
        "    tf.keras.layers.Dense(512,activation='relu'),\n",
        "    tf.keras.layers.Dense(1,activation='sigmoid')\n",
        "                              \n",
        "])\n",
        "\n",
        "model.compile(optimizer=RMSprop(lr=0.001), loss='binary_crossentropy', metrics=['acc'])"
      ],
      "execution_count": 7,
      "outputs": []
    },
    {
      "cell_type": "markdown",
      "metadata": {
        "id": "8ewUdtgq1YFB"
      },
      "source": [
        "#### Create the train and validation generator"
      ]
    },
    {
      "cell_type": "code",
      "metadata": {
        "id": "lnrWlc6JuYgz",
        "outputId": "815e84bd-c1f2-41d1-8066-a0c298f6dbc3",
        "colab": {
          "base_uri": "https://localhost:8080/",
          "height": 50
        }
      },
      "source": [
        "TRAINING_DIR = \"/tmp/cats-v-dogs/training/\"\n",
        "train_datagen =  ImageDataGenerator(\n",
        "    rescale=1./255.,\n",
        "    rotation_range = 60,\n",
        "    width_shift_range=0.25,\n",
        "    height_shift_range=0.25,\n",
        "    shear_range=0.2,\n",
        "    zoom_range=0.25,\n",
        "    horizontal_flip=True,\n",
        "    fill_mode='nearest',\n",
        "\n",
        ")\n",
        "\n",
        "\n",
        "# TRAIN GENERATOR.\n",
        "train_generator = train_datagen.flow_from_directory(\n",
        "     TRAINING_DIR,\n",
        "     batch_size = 32,\n",
        "    class_mode ='binary',\n",
        "    target_size = (150,150)\n",
        ")\n",
        "\n",
        "VALIDATION_DIR = \"/tmp/cats-v-dogs/testing/\"\n",
        "validation_datagen = ImageDataGenerator(rescale=1./255.)\n",
        "\n",
        "\n",
        "# VALIDATION GENERATOR.\n",
        "validation_generator = validation_datagen.flow_from_directory(\n",
        "     VALIDATION_DIR,\n",
        "     batch_size = 32,\n",
        "    class_mode ='binary',\n",
        "    target_size = (150,150)\n",
        ")\n"
      ],
      "execution_count": 8,
      "outputs": [
        {
          "output_type": "stream",
          "text": [
            "Found 22500 images belonging to 2 classes.\n",
            "Found 2498 images belonging to 2 classes.\n"
          ],
          "name": "stdout"
        }
      ]
    },
    {
      "cell_type": "code",
      "metadata": {
        "id": "FHjJbdJM1i05"
      },
      "source": [
        ""
      ],
      "execution_count": 8,
      "outputs": []
    },
    {
      "cell_type": "markdown",
      "metadata": {
        "id": "zsWbtZII1kvn"
      },
      "source": [
        "#### Train the model\n"
      ]
    },
    {
      "cell_type": "code",
      "metadata": {
        "id": "WXe-2DPO1wuh",
        "outputId": "f6d278e9-761a-409e-9e79-978cd66c5f4a",
        "colab": {
          "base_uri": "https://localhost:8080/",
          "height": 1000
        }
      },
      "source": [
        "history = model.fit_generator(train_generator,\n",
        "                              epochs=30,\n",
        "                              verbose=1,\n",
        "                              validation_data=validation_generator\n",
        "                              )"
      ],
      "execution_count": 9,
      "outputs": [
        {
          "output_type": "stream",
          "text": [
            "WARNING:tensorflow:From <ipython-input-9-6de57d85d5bd>:4: Model.fit_generator (from tensorflow.python.keras.engine.training) is deprecated and will be removed in a future version.\n",
            "Instructions for updating:\n",
            "Please use Model.fit, which supports generators.\n",
            "Epoch 1/30\n",
            "199/704 [=======>......................] - ETA: 1:50 - loss: 0.6895 - acc: 0.5589"
          ],
          "name": "stdout"
        },
        {
          "output_type": "stream",
          "text": [
            "/usr/local/lib/python3.6/dist-packages/PIL/TiffImagePlugin.py:770: UserWarning: Possibly corrupt EXIF data.  Expecting to read 32 bytes but only got 0. Skipping tag 270\n",
            "  \" Skipping tag %s\" % (size, len(data), tag)\n",
            "/usr/local/lib/python3.6/dist-packages/PIL/TiffImagePlugin.py:770: UserWarning: Possibly corrupt EXIF data.  Expecting to read 5 bytes but only got 0. Skipping tag 271\n",
            "  \" Skipping tag %s\" % (size, len(data), tag)\n",
            "/usr/local/lib/python3.6/dist-packages/PIL/TiffImagePlugin.py:770: UserWarning: Possibly corrupt EXIF data.  Expecting to read 8 bytes but only got 0. Skipping tag 272\n",
            "  \" Skipping tag %s\" % (size, len(data), tag)\n",
            "/usr/local/lib/python3.6/dist-packages/PIL/TiffImagePlugin.py:770: UserWarning: Possibly corrupt EXIF data.  Expecting to read 8 bytes but only got 0. Skipping tag 282\n",
            "  \" Skipping tag %s\" % (size, len(data), tag)\n",
            "/usr/local/lib/python3.6/dist-packages/PIL/TiffImagePlugin.py:770: UserWarning: Possibly corrupt EXIF data.  Expecting to read 8 bytes but only got 0. Skipping tag 283\n",
            "  \" Skipping tag %s\" % (size, len(data), tag)\n",
            "/usr/local/lib/python3.6/dist-packages/PIL/TiffImagePlugin.py:770: UserWarning: Possibly corrupt EXIF data.  Expecting to read 20 bytes but only got 0. Skipping tag 306\n",
            "  \" Skipping tag %s\" % (size, len(data), tag)\n",
            "/usr/local/lib/python3.6/dist-packages/PIL/TiffImagePlugin.py:770: UserWarning: Possibly corrupt EXIF data.  Expecting to read 48 bytes but only got 0. Skipping tag 532\n",
            "  \" Skipping tag %s\" % (size, len(data), tag)\n",
            "/usr/local/lib/python3.6/dist-packages/PIL/TiffImagePlugin.py:788: UserWarning: Corrupt EXIF data.  Expecting to read 2 bytes but only got 0. \n",
            "  warnings.warn(str(msg))\n"
          ],
          "name": "stderr"
        },
        {
          "output_type": "stream",
          "text": [
            "704/704 [==============================] - 162s 230ms/step - loss: 0.6396 - acc: 0.6283 - val_loss: 0.5494 - val_acc: 0.7274\n",
            "Epoch 2/30\n",
            "704/704 [==============================] - 161s 228ms/step - loss: 0.5778 - acc: 0.6948 - val_loss: 0.5804 - val_acc: 0.7058\n",
            "Epoch 3/30\n",
            "704/704 [==============================] - 161s 229ms/step - loss: 0.5421 - acc: 0.7241 - val_loss: 0.6304 - val_acc: 0.6942\n",
            "Epoch 4/30\n",
            "704/704 [==============================] - 161s 228ms/step - loss: 0.5290 - acc: 0.7380 - val_loss: 0.4150 - val_acc: 0.8010\n",
            "Epoch 5/30\n",
            "704/704 [==============================] - 160s 228ms/step - loss: 0.5054 - acc: 0.7533 - val_loss: 0.4030 - val_acc: 0.8159\n",
            "Epoch 6/30\n",
            "704/704 [==============================] - 160s 227ms/step - loss: 0.4917 - acc: 0.7625 - val_loss: 0.3931 - val_acc: 0.8171\n",
            "Epoch 7/30\n",
            "704/704 [==============================] - 161s 228ms/step - loss: 0.4825 - acc: 0.7704 - val_loss: 0.3928 - val_acc: 0.8243\n",
            "Epoch 8/30\n",
            "704/704 [==============================] - 160s 228ms/step - loss: 0.4661 - acc: 0.7804 - val_loss: 0.4276 - val_acc: 0.8094\n",
            "Epoch 9/30\n",
            "704/704 [==============================] - 162s 230ms/step - loss: 0.4637 - acc: 0.7824 - val_loss: 0.5659 - val_acc: 0.7526\n",
            "Epoch 10/30\n",
            "704/704 [==============================] - 162s 230ms/step - loss: 0.4564 - acc: 0.7855 - val_loss: 0.5500 - val_acc: 0.7574\n",
            "Epoch 11/30\n",
            "704/704 [==============================] - 162s 231ms/step - loss: 0.4466 - acc: 0.7946 - val_loss: 0.6460 - val_acc: 0.7378\n",
            "Epoch 12/30\n",
            "704/704 [==============================] - 162s 230ms/step - loss: 0.4429 - acc: 0.7952 - val_loss: 0.3574 - val_acc: 0.8511\n",
            "Epoch 13/30\n",
            "704/704 [==============================] - 162s 231ms/step - loss: 0.4408 - acc: 0.7965 - val_loss: 0.3384 - val_acc: 0.8459\n",
            "Epoch 14/30\n",
            "704/704 [==============================] - 162s 230ms/step - loss: 0.4353 - acc: 0.8032 - val_loss: 0.4589 - val_acc: 0.8110\n",
            "Epoch 15/30\n",
            "704/704 [==============================] - 162s 230ms/step - loss: 0.4279 - acc: 0.8086 - val_loss: 0.3455 - val_acc: 0.8523\n",
            "Epoch 16/30\n",
            "704/704 [==============================] - 162s 230ms/step - loss: 0.4296 - acc: 0.8084 - val_loss: 0.3757 - val_acc: 0.8383\n",
            "Epoch 17/30\n",
            "704/704 [==============================] - 162s 230ms/step - loss: 0.4295 - acc: 0.8106 - val_loss: 0.3759 - val_acc: 0.8347\n",
            "Epoch 18/30\n",
            "704/704 [==============================] - 162s 230ms/step - loss: 0.4375 - acc: 0.8034 - val_loss: 0.3592 - val_acc: 0.8427\n",
            "Epoch 19/30\n",
            "704/704 [==============================] - 162s 231ms/step - loss: 0.4260 - acc: 0.8084 - val_loss: 0.3327 - val_acc: 0.8563\n",
            "Epoch 20/30\n",
            "704/704 [==============================] - 162s 230ms/step - loss: 0.4256 - acc: 0.8105 - val_loss: 0.3293 - val_acc: 0.8579\n",
            "Epoch 21/30\n",
            "704/704 [==============================] - 163s 231ms/step - loss: 0.4256 - acc: 0.8123 - val_loss: 0.4599 - val_acc: 0.7926\n",
            "Epoch 22/30\n",
            "704/704 [==============================] - 162s 231ms/step - loss: 0.4285 - acc: 0.8108 - val_loss: 0.3286 - val_acc: 0.8547\n",
            "Epoch 23/30\n",
            "704/704 [==============================] - 162s 230ms/step - loss: 0.4265 - acc: 0.8080 - val_loss: 0.4541 - val_acc: 0.7774\n",
            "Epoch 24/30\n",
            "704/704 [==============================] - 162s 231ms/step - loss: 0.4270 - acc: 0.8068 - val_loss: 0.3608 - val_acc: 0.8619\n",
            "Epoch 25/30\n",
            "704/704 [==============================] - 162s 230ms/step - loss: 0.4219 - acc: 0.8086 - val_loss: 0.5543 - val_acc: 0.7838\n",
            "Epoch 26/30\n",
            "704/704 [==============================] - 162s 231ms/step - loss: 0.4299 - acc: 0.8098 - val_loss: 0.5684 - val_acc: 0.7738\n",
            "Epoch 27/30\n",
            "704/704 [==============================] - 162s 230ms/step - loss: 0.4296 - acc: 0.8083 - val_loss: 0.3380 - val_acc: 0.8695\n",
            "Epoch 28/30\n",
            "704/704 [==============================] - 162s 230ms/step - loss: 0.4303 - acc: 0.8090 - val_loss: 0.6765 - val_acc: 0.7526\n",
            "Epoch 29/30\n",
            "704/704 [==============================] - 162s 230ms/step - loss: 0.4309 - acc: 0.8088 - val_loss: 0.3567 - val_acc: 0.8551\n",
            "Epoch 30/30\n",
            "704/704 [==============================] - 161s 229ms/step - loss: 0.4333 - acc: 0.8052 - val_loss: 0.3481 - val_acc: 0.8607\n"
          ],
          "name": "stdout"
        }
      ]
    },
    {
      "cell_type": "markdown",
      "metadata": {
        "id": "-7ECWert145m"
      },
      "source": [
        "#### # PLOT LOSS AND ACCURACY"
      ]
    },
    {
      "cell_type": "code",
      "metadata": {
        "id": "Ar5NEImI1xEZ",
        "outputId": "0dc0b2e9-e59e-4638-ee00-3f246fd23ad8",
        "colab": {
          "base_uri": "https://localhost:8080/",
          "height": 562
        }
      },
      "source": [
        "%matplotlib inline\n",
        "\n",
        "import matplotlib.image  as mpimg\n",
        "import matplotlib.pyplot as plt\n",
        "\n",
        "#-----------------------------------------------------------\n",
        "# Retrieve a list of list results on training and test data\n",
        "# sets for each training epoch\n",
        "#-----------------------------------------------------------\n",
        "acc=history.history['acc']\n",
        "val_acc=history.history['val_acc']\n",
        "loss=history.history['loss']\n",
        "val_loss=history.history['val_loss']\n",
        "\n",
        "epochs=range(len(acc)) # Get number of epochs\n",
        "\n",
        "#------------------------------------------------\n",
        "# Plot training and validation accuracy per epoch\n",
        "#------------------------------------------------\n",
        "plt.plot(epochs, acc, 'r', \"Training Accuracy\")\n",
        "plt.plot(epochs, val_acc, 'b', \"Validation Accuracy\")\n",
        "plt.title('Training and validation accuracy')\n",
        "plt.figure()\n",
        "\n",
        "#------------------------------------------------\n",
        "# Plot training and validation loss per epoch\n",
        "#------------------------------------------------\n",
        "plt.plot(epochs, loss, 'r', \"Training Loss\")\n",
        "plt.plot(epochs, val_loss, 'b', \"Validation Loss\")\n",
        "\n",
        "\n",
        "plt.title('Training and validation loss')"
      ],
      "execution_count": 10,
      "outputs": [
        {
          "output_type": "execute_result",
          "data": {
            "text/plain": [
              "Text(0.5, 1.0, 'Training and validation loss')"
            ]
          },
          "metadata": {
            "tags": []
          },
          "execution_count": 10
        },
        {
          "output_type": "display_data",
          "data": {
            "image/png": "[encoded data removed]",
            "text/plain": [
              "<Figure size 432x288 with 1 Axes>"
            ]
          },
          "metadata": {
            "tags": [],
            "needs_background": "light"
          }
        },
        {
          "output_type": "display_data",
          "data": {
            "image/png": "[encoded data removed]",
            "text/plain": [
              "<Figure size 432x288 with 1 Axes>"
            ]
          },
          "metadata": {
            "tags": [],
            "needs_background": "light"
          }
        }
      ]
    },
    {
      "cell_type": "code",
      "metadata": {
        "id": "OyWqs8a4FjwC",
        "outputId": "176797a7-b002-41d1-df7b-f536f258251e",
        "colab": {
          "base_uri": "https://localhost:8080/",
          "height": 154
        }
      },
      "source": [
        "model.save('modelv1')"
      ],
      "execution_count": 13,
      "outputs": [
        {
          "output_type": "stream",
          "text": [
            "WARNING:tensorflow:From /usr/local/lib/python3.6/dist-packages/tensorflow/python/training/tracking/tracking.py:111: Model.state_updates (from tensorflow.python.keras.engine.training) is deprecated and will be removed in a future version.\n",
            "Instructions for updating:\n",
            "This property should not be used in TensorFlow 2.0, as updates are applied automatically.\n",
            "WARNING:tensorflow:From /usr/local/lib/python3.6/dist-packages/tensorflow/python/training/tracking/tracking.py:111: Layer.updates (from tensorflow.python.keras.engine.base_layer) is deprecated and will be removed in a future version.\n",
            "Instructions for updating:\n",
            "This property should not be used in TensorFlow 2.0, as updates are applied automatically.\n",
            "INFO:tensorflow:Assets written to: modelv1/assets\n"
          ],
          "name": "stdout"
        }
      ]
    },
    {
      "cell_type": "code",
      "metadata": {
        "id": "lQ5CY0mjMKyw",
        "outputId": "29e55f46-2552-4a98-9abf-76d5334a896e",
        "colab": {
          "base_uri": "https://localhost:8080/",
          "height": 17
        }
      },
      "source": [
        "from google.colab import files\n",
        "files.download('modelv1') "
      ],
      "execution_count": 14,
      "outputs": [
        {
          "output_type": "display_data",
          "data": {
            "application/javascript": [
              "\n",
              "    async function download(id, filename, size) {\n",
              "      if (!google.colab.kernel.accessAllowed) {\n",
              "        return;\n",
              "      }\n",
              "      const div = document.createElement('div');\n",
              "      const label = document.createElement('label');\n",
              "      label.textContent = `Downloading \"${filename}\": `;\n",
              "      div.appendChild(label);\n",
              "      const progress = document.createElement('progress');\n",
              "      progress.max = size;\n",
              "      div.appendChild(progress);\n",
              "      document.body.appendChild(div);\n",
              "\n",
              "      const buffers = [];\n",
              "      let downloaded = 0;\n",
              "\n",
              "      const channel = await google.colab.kernel.comms.open(id);\n",
              "      // Send a message to notify the kernel that we're ready.\n",
              "      channel.send({})\n",
              "\n",
              "      for await (const message of channel.messages) {\n",
              "        // Send a message to notify the kernel that we're ready.\n",
              "        channel.send({})\n",
              "        if (message.buffers) {\n",
              "          for (const buffer of message.buffers) {\n",
              "            buffers.push(buffer);\n",
              "            downloaded += buffer.byteLength;\n",
              "            progress.value = downloaded;\n",
              "          }\n",
              "        }\n",
              "      }\n",
              "      const blob = new Blob(buffers, {type: 'application/binary'});\n",
              "      const a = document.createElement('a');\n",
              "      a.href = window.URL.createObjectURL(blob);\n",
              "      a.download = filename;\n",
              "      div.appendChild(a);\n",
              "      a.click();\n",
              "      div.remove();\n",
              "    }\n",
              "  "
            ],
            "text/plain": [
              "<IPython.core.display.Javascript object>"
            ]
          },
          "metadata": {
            "tags": []
          }
        },
        {
          "output_type": "display_data",
          "data": {
            "application/javascript": [
              "download(\"download_73dfaa84-e646-4698-ba4c-d120f9f7d945\", \"modelv1\", 4096)"
            ],
            "text/plain": [
              "<IPython.core.display.Javascript object>"
            ]
          },
          "metadata": {
            "tags": []
          }
        }
      ]
    },
    {
      "cell_type": "code",
      "metadata": {
        "id": "6xWyw-bGzwRR"
      },
      "source": [
        ""
      ],
      "execution_count": null,
      "outputs": []
    }
  ]
}