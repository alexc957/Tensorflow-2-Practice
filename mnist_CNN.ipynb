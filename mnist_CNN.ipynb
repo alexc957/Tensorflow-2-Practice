{
  "nbformat": 4,
  "nbformat_minor": 0,
  "metadata": {
    "colab": {
      "name": "mnist CNN.ipynb",
      "provenance": [],
      "collapsed_sections": [],
      "authorship_tag": "ABX9TyM134n1yM7eNlGx0OSG//Ue",
      "include_colab_link": true
    },
    "kernelspec": {
      "name": "python3",
      "display_name": "Python 3"
    }
  },
  "cells": [
    {
      "cell_type": "markdown",
      "metadata": {
        "id": "view-in-github",
        "colab_type": "text"
      },
      "source": [
        "<a href=\"https://colab.research.google.com/github/alexc957/Tensorflow-2-Practice/blob/main/mnist_CNN.ipynb\" target=\"_parent\"><img src=\"https://colab.research.google.com/assets/colab-badge.svg\" alt=\"Open In Colab\"/></a>"
      ]
    },
    {
      "cell_type": "markdown",
      "metadata": {
        "id": "r8Ny0sviTCeS"
      },
      "source": [
        "### Import tensorflow "
      ]
    },
    {
      "cell_type": "code",
      "metadata": {
        "id": "XcBZ1hAh4A-d"
      },
      "source": [
        "import tensorflow as tf \n"
      ],
      "execution_count": null,
      "outputs": []
    },
    {
      "cell_type": "markdown",
      "metadata": {
        "id": "kJPN8rrwTHAA"
      },
      "source": [
        "### Create a callback to stop training after reaching an accuracy greater or equal to 0.998"
      ]
    },
    {
      "cell_type": "code",
      "metadata": {
        "id": "IixQhbes4zqr"
      },
      "source": [
        "class MyCallBack(tf.keras.callbacks.Callback):\n",
        "  def on_epoch_end(self,epoch,logs={}):\n",
        "    if logs.get('accuracy')>=0.998:\n",
        "      self.model.stop_training = True"
      ],
      "execution_count": null,
      "outputs": []
    },
    {
      "cell_type": "markdown",
      "metadata": {
        "id": "D_iWgDDQTTBR"
      },
      "source": [
        "### load the data and preprocess it"
      ]
    },
    {
      "cell_type": "code",
      "metadata": {
        "id": "A_1cVuN65Hfu",
        "outputId": "6a532b76-abb0-4ed3-ca80-4ee921412769",
        "colab": {
          "base_uri": "https://localhost:8080/",
          "height": 50
        }
      },
      "source": [
        "callbacks = MyCallBack()\n",
        "mnist = tf.keras.datasets.mnist\n",
        "(training_images, training_labels), (test_images, test_labels) = mnist.load_data()\n",
        "training_images = training_images.reshape(-1,28,28,1)/255.\n",
        "test_images= test_images.reshape(-1,28,28,1)/255"
      ],
      "execution_count": null,
      "outputs": [
        {
          "output_type": "stream",
          "text": [
            "Downloading data from https://storage.googleapis.com/tensorflow/tf-keras-datasets/mnist.npz\n",
            "11493376/11490434 [==============================] - 0s 0us/step\n"
          ],
          "name": "stdout"
        }
      ]
    },
    {
      "cell_type": "markdown",
      "metadata": {
        "id": "u99rUoJsTZAt"
      },
      "source": [
        "#### Create the Convolutional Neural Network Model, train it and test it with the validation set  "
      ]
    },
    {
      "cell_type": "code",
      "metadata": {
        "id": "F4um8AaD5xZn",
        "outputId": "8f4cb345-a100-44fd-c520-16976b7b1480",
        "colab": {
          "base_uri": "https://localhost:8080/",
          "height": 420
        }
      },
      "source": [
        "model = tf.keras.models.Sequential([\n",
        "         \n",
        "            tf.keras.layers.Conv2D(64,(2,2),input_shape=(28,28,1),activation='relu'),\n",
        "            tf.keras.layers.MaxPooling2D(2,2),\n",
        "            tf.keras.layers.Flatten(),\n",
        "            tf.keras.layers.Dense(64, activation='relu'),\n",
        "            tf.keras.layers.Dense(10,activation='softmax')\n",
        "      \n",
        "    ])\n",
        "\n",
        "model.compile(optimizer='adam', loss='sparse_categorical_crossentropy', metrics=['accuracy'])\n",
        "    # model fitting\n",
        "history = model.fit(\n",
        "        \n",
        "        training_images,training_labels, epochs=20,validation_data=(test_images,test_labels), callbacks=[callbacks])"
      ],
      "execution_count": null,
      "outputs": [
        {
          "output_type": "stream",
          "text": [
            "Epoch 1/20\n",
            "1875/1875 [==============================] - 44s 23ms/step - loss: 0.1792 - accuracy: 0.9474 - val_loss: 0.0848 - val_accuracy: 0.9742\n",
            "Epoch 2/20\n",
            "1875/1875 [==============================] - 44s 24ms/step - loss: 0.0638 - accuracy: 0.9805 - val_loss: 0.0654 - val_accuracy: 0.9797\n",
            "Epoch 3/20\n",
            "1875/1875 [==============================] - 43s 23ms/step - loss: 0.0450 - accuracy: 0.9865 - val_loss: 0.0527 - val_accuracy: 0.9836\n",
            "Epoch 4/20\n",
            "1875/1875 [==============================] - 43s 23ms/step - loss: 0.0319 - accuracy: 0.9898 - val_loss: 0.0545 - val_accuracy: 0.9837\n",
            "Epoch 5/20\n",
            "1875/1875 [==============================] - 44s 23ms/step - loss: 0.0239 - accuracy: 0.9929 - val_loss: 0.0618 - val_accuracy: 0.9822\n",
            "Epoch 6/20\n",
            "1875/1875 [==============================] - 44s 24ms/step - loss: 0.0170 - accuracy: 0.9943 - val_loss: 0.0555 - val_accuracy: 0.9838\n",
            "Epoch 7/20\n",
            "1875/1875 [==============================] - 48s 26ms/step - loss: 0.0132 - accuracy: 0.9957 - val_loss: 0.0594 - val_accuracy: 0.9837\n",
            "Epoch 8/20\n",
            "1875/1875 [==============================] - 42s 23ms/step - loss: 0.0107 - accuracy: 0.9967 - val_loss: 0.0648 - val_accuracy: 0.9823\n",
            "Epoch 9/20\n",
            "1875/1875 [==============================] - 43s 23ms/step - loss: 0.0079 - accuracy: 0.9974 - val_loss: 0.0754 - val_accuracy: 0.9825\n",
            "Epoch 10/20\n",
            "1875/1875 [==============================] - 43s 23ms/step - loss: 0.0078 - accuracy: 0.9973 - val_loss: 0.0749 - val_accuracy: 0.9813\n",
            "Epoch 11/20\n",
            "1875/1875 [==============================] - 42s 22ms/step - loss: 0.0073 - accuracy: 0.9974 - val_loss: 0.0699 - val_accuracy: 0.9838\n",
            "Epoch 12/20\n",
            "1875/1875 [==============================] - 42s 22ms/step - loss: 0.0047 - accuracy: 0.9984 - val_loss: 0.0786 - val_accuracy: 0.9820\n"
          ],
          "name": "stdout"
        }
      ]
    },
    {
      "cell_type": "markdown",
      "metadata": {
        "id": "-0hPJBGoUIDo"
      },
      "source": [
        "#### Plot the training and the validation accuracy and loss "
      ]
    },
    {
      "cell_type": "code",
      "metadata": {
        "id": "PqafzBKgUUvU"
      },
      "source": [
        "import matplotlib.pyplot as plt \n",
        "%matplotlib inline \n",
        "\n",
        "def plot_curves(train_results,validation_results,y_label='accuracy'):\n",
        "  epochs = range(1,len(train_results)+1)\n",
        "  plt.plot(epochs,train_results,label='train')\n",
        "  plt.plot(epochs,validation_results)\n",
        "  plt.ylabel(y_label)\n",
        "  plt.xlabel('epochs')\n",
        "  plt.title(f'{y_label} vs epochs')\n",
        "  plt.show()"
      ],
      "execution_count": null,
      "outputs": []
    },
    {
      "cell_type": "code",
      "metadata": {
        "id": "ZD3gMSXUWcBX",
        "outputId": "18d5a3e0-5b78-4af2-bea1-4b6f3906c066",
        "colab": {
          "base_uri": "https://localhost:8080/",
          "height": 295
        }
      },
      "source": [
        "plot_curves(history.history.get('accuracy'),history.history.get('val_accuracy'), y_label='accuracy')"
      ],
      "execution_count": null,
      "outputs": [
        {
          "output_type": "display_data",
          "data": {
            "image/png": "[encoded data removed]",
            "text/plain": [
              "<Figure size 432x288 with 1 Axes>"
            ]
          },
          "metadata": {
            "tags": [],
            "needs_background": "light"
          }
        }
      ]
    },
    {
      "cell_type": "code",
      "metadata": {
        "id": "aB1c4hc8WzQJ",
        "outputId": "de5ba981-c960-494c-a9ea-a71a5825bfc2",
        "colab": {
          "base_uri": "https://localhost:8080/",
          "height": 295
        }
      },
      "source": [
        "plot_curves(history.history.get('loss'),history.history.get('val_loss'), y_label='loss')"
      ],
      "execution_count": null,
      "outputs": [
        {
          "output_type": "display_data",
          "data": {
            "image/png": "[encoded data removed]",
            "text/plain": [
              "<Figure size 432x288 with 1 Axes>"
            ]
          },
          "metadata": {
            "tags": [],
            "needs_background": "light"
          }
        }
      ]
    },
    {
      "cell_type": "code",
      "metadata": {
        "id": "_5gyJQlHWuf_"
      },
      "source": [
        ""
      ],
      "execution_count": null,
      "outputs": []
    },
    {
      "cell_type": "markdown",
      "metadata": {
        "id": "UK5QH0W0W48u"
      },
      "source": [
        "### Results: it is overfitting "
      ]
    },
    {
      "cell_type": "code",
      "metadata": {
        "id": "daKPXE9DW8Rb"
      },
      "source": [
        ""
      ],
      "execution_count": null,
      "outputs": []
    }
  ]
}