{
  "nbformat": 4,
  "nbformat_minor": 0,
  "metadata": {
    "colab": {
      "name": "Overfitting in NLP.ipynb",
      "provenance": [],
      "collapsed_sections": [],
      "authorship_tag": "ABX9TyPq3D2N4L4xU9E50ghXVzki",
      "include_colab_link": true
    },
    "kernelspec": {
      "name": "python3",
      "display_name": "Python 3"
    }
  },
  "cells": [
    {
      "cell_type": "markdown",
      "metadata": {
        "id": "view-in-github",
        "colab_type": "text"
      },
      "source": [
        "<a href=\"https://colab.research.google.com/github/alexc957/Tensorflow-2-Practice/blob/Practice/Overfitting_in_NLP.ipynb\" target=\"_parent\"><img src=\"https://colab.research.google.com/assets/colab-badge.svg\" alt=\"Open In Colab\"/></a>"
      ]
    },
    {
      "cell_type": "markdown",
      "metadata": {
        "id": "56sOrlkxb4Ww"
      },
      "source": [
        "## Import the necesary libraries "
      ]
    },
    {
      "cell_type": "code",
      "metadata": {
        "id": "x6pxQNNabxjz"
      },
      "source": [
        "import json\n",
        "import tensorflow as tf\n",
        "import csv\n",
        "import random\n",
        "import numpy as np\n",
        "\n",
        "from tensorflow.keras.preprocessing.text import Tokenizer\n",
        "from tensorflow.keras.preprocessing.sequence import pad_sequences\n",
        "from tensorflow.keras.utils import to_categorical\n",
        "from tensorflow.keras import regularizers\n",
        "\n",
        "\n",
        "embedding_dim = 100\n",
        "max_length = 16\n",
        "trunc_type='post'\n",
        "padding_type='post'\n",
        "oov_tok = \"<OOV>\"\n",
        "training_size=160000\n",
        "test_portion=.1\n",
        "\n",
        "corpus = []"
      ],
      "execution_count": 1,
      "outputs": []
    },
    {
      "cell_type": "markdown",
      "metadata": {
        "id": "JcZxBa9ZcC73"
      },
      "source": [
        "### Get the data "
      ]
    },
    {
      "cell_type": "code",
      "metadata": {
        "id": "8hF7Sj0Ob-47",
        "outputId": "6dbfd7de-ab62-4b43-c808-7a3529497b6c",
        "colab": {
          "base_uri": "https://localhost:8080/"
        }
      },
      "source": [
        "!wget --no-check-certificate \\\n",
        "    https://storage.googleapis.com/laurencemoroney-blog.appspot.com/training_cleaned.csv \\\n",
        "    -O /tmp/training_cleaned.csv\n",
        "\n",
        "num_sentences = 0\n",
        "\n",
        "with open(\"/tmp/training_cleaned.csv\") as csvfile:\n",
        "    reader = csv.reader(csvfile, delimiter=',')\n",
        "    for row in reader:\n",
        "        list_item=[]\n",
        "        list_item.append(row[5])\n",
        "        this_label=row[0]\n",
        "        if this_label=='0':\n",
        "            list_item.append(0)\n",
        "        else:\n",
        "            list_item.append(1)\n",
        "        num_sentences = num_sentences + 1\n",
        "        corpus.append(list_item)"
      ],
      "execution_count": 2,
      "outputs": [
        {
          "output_type": "stream",
          "text": [
            "--2020-11-02 19:30:16--  https://storage.googleapis.com/laurencemoroney-blog.appspot.com/training_cleaned.csv\n",
            "Resolving storage.googleapis.com (storage.googleapis.com)... 74.125.31.128, 74.125.141.128, 173.194.210.128, ...\n",
            "Connecting to storage.googleapis.com (storage.googleapis.com)|74.125.31.128|:443... connected.\n",
            "HTTP request sent, awaiting response... 200 OK\n",
            "Length: 238942690 (228M) [application/octet-stream]\n",
            "Saving to: ‘/tmp/training_cleaned.csv’\n",
            "\n",
            "/tmp/training_clean 100%[===================>] 227.87M   206MB/s    in 1.1s    \n",
            "\n",
            "2020-11-02 19:30:17 (206 MB/s) - ‘/tmp/training_cleaned.csv’ saved [238942690/238942690]\n",
            "\n"
          ],
          "name": "stdout"
        }
      ]
    },
    {
      "cell_type": "code",
      "metadata": {
        "id": "AjeVOvmjcEZw",
        "outputId": "7322e3c1-dcd6-4b95-974e-7f503682be8b",
        "colab": {
          "base_uri": "https://localhost:8080/"
        }
      },
      "source": [
        "print(num_sentences)\n",
        "print(len(corpus))\n",
        "print(corpus[1])\n"
      ],
      "execution_count": 3,
      "outputs": [
        {
          "output_type": "stream",
          "text": [
            "1600000\n",
            "1600000\n",
            "[\"is upset that he can't update his Facebook by texting it... and might cry as a result  School today also. Blah!\", 0]\n"
          ],
          "name": "stdout"
        }
      ]
    },
    {
      "cell_type": "markdown",
      "metadata": {
        "id": "QMWDJkaCebN6"
      },
      "source": [
        "### Create list of sentences, labels and split them into train-test sets   "
      ]
    },
    {
      "cell_type": "code",
      "metadata": {
        "id": "8F1NyIdkcGsR"
      },
      "source": [
        "sentences = []\n",
        "labels = []\n",
        "random.shuffle(corpus)\n",
        "for x in range(training_size):\n",
        "  sentences.append(corpus[x][0])\n",
        "  labels.append(corpus[x][1])\n",
        "\n",
        "tokenizer = Tokenizer()\n",
        "tokenizer.fit_on_texts(sentences)\n",
        "word_index = tokenizer.word_index\n",
        "vocab_size = len(word_index)\n",
        "\n",
        "sequences = tokenizer.texts_to_sequences(sentences)\n",
        "padded = pad_sequences(sequences,maxlen=max_length,padding=padding_type,truncating=trunc_type)\n",
        "\n",
        "split = int(test_portion*training_size)\n",
        "\n",
        "\n",
        "test_sequences = padded[0:split]\n",
        "training_sequences = padded[split:training_size]\n",
        "test_labels = labels[0:split]\n",
        "training_labels = labels[split:training_size]"
      ],
      "execution_count": 5,
      "outputs": []
    },
    {
      "cell_type": "code",
      "metadata": {
        "id": "Vjg0vK6XdOIj",
        "outputId": "eba6ea02-8765-477d-b6cf-62b91c49b49b",
        "colab": {
          "base_uri": "https://localhost:8080/"
        }
      },
      "source": [
        "print(vocab_size)\n",
        "print(word_index['i'])"
      ],
      "execution_count": 6,
      "outputs": [
        {
          "output_type": "stream",
          "text": [
            "138693\n",
            "1\n"
          ],
          "name": "stdout"
        }
      ]
    },
    {
      "cell_type": "markdown",
      "metadata": {
        "id": "IpJ_FB2MeoKa"
      },
      "source": [
        "#### Get a embedding matrix already trained"
      ]
    },
    {
      "cell_type": "code",
      "metadata": {
        "id": "mzYgRHj3dTme",
        "outputId": "f3eaa2bd-34a9-4146-c779-4a09226b5526",
        "colab": {
          "base_uri": "https://localhost:8080/"
        }
      },
      "source": [
        "!wget --no-check-certificate \\\n",
        "    https://storage.googleapis.com/laurencemoroney-blog.appspot.com/glove.6B.100d.txt \\\n",
        "    -O /tmp/glove.6B.100d.txt\n",
        "embeddings_index = {};\n",
        "with open('/tmp/glove.6B.100d.txt') as f:\n",
        "    for line in f:\n",
        "        values = line.split();\n",
        "        word = values[0];\n",
        "        coefs = np.asarray(values[1:], dtype='float32');\n",
        "        embeddings_index[word] = coefs;\n",
        "\n",
        "embeddings_matrix = np.zeros((vocab_size+1, embedding_dim));\n",
        "for word, i in word_index.items():\n",
        "    embedding_vector = embeddings_index.get(word);\n",
        "    if embedding_vector is not None:\n",
        "        embeddings_matrix[i] = embedding_vector;"
      ],
      "execution_count": 7,
      "outputs": [
        {
          "output_type": "stream",
          "text": [
            "--2020-11-02 19:36:50--  https://storage.googleapis.com/laurencemoroney-blog.appspot.com/glove.6B.100d.txt\n",
            "Resolving storage.googleapis.com (storage.googleapis.com)... 172.217.193.128, 172.217.204.128, 172.217.203.128, ...\n",
            "Connecting to storage.googleapis.com (storage.googleapis.com)|172.217.193.128|:443... connected.\n",
            "HTTP request sent, awaiting response... 200 OK\n",
            "Length: 347116733 (331M) [text/plain]\n",
            "Saving to: ‘/tmp/glove.6B.100d.txt’\n",
            "\n",
            "/tmp/glove.6B.100d. 100%[===================>] 331.04M   179MB/s    in 1.9s    \n",
            "\n",
            "2020-11-02 19:36:52 (179 MB/s) - ‘/tmp/glove.6B.100d.txt’ saved [347116733/347116733]\n",
            "\n"
          ],
          "name": "stdout"
        }
      ]
    },
    {
      "cell_type": "code",
      "metadata": {
        "id": "blmx5LPOdkny",
        "outputId": "036cf02a-c9a0-4aea-b34a-78b8b7e82abd",
        "colab": {
          "base_uri": "https://localhost:8080/"
        }
      },
      "source": [
        "print(len(embeddings_matrix))\n"
      ],
      "execution_count": 8,
      "outputs": [
        {
          "output_type": "stream",
          "text": [
            "138694\n"
          ],
          "name": "stdout"
        }
      ]
    },
    {
      "cell_type": "markdown",
      "metadata": {
        "id": "9Bun-SY_e1Bn"
      },
      "source": [
        "### Build the model"
      ]
    },
    {
      "cell_type": "code",
      "metadata": {
        "id": "zW4R86AkdlrQ",
        "outputId": "be266632-d75a-4dc4-b933-f8e6dc10be63",
        "colab": {
          "base_uri": "https://localhost:8080/"
        }
      },
      "source": [
        "model = tf.keras.Sequential([\n",
        "        tf.keras.layers.Embedding(vocab_size+1, embedding_dim,input_length=max_length,weights=[embeddings_matrix], trainable=False),\n",
        "        tf.keras.layers.Dropout(0.2),\n",
        "        tf.keras.layers.Conv1D(64,5,activation='relu'),\n",
        "        tf.keras.layers.MaxPooling1D(pool_size=4),\n",
        "        tf.keras.layers.LSTM(64),\n",
        "        tf.keras.layers.Dense(1,activation='sigmoid')\n",
        "\n",
        "])\n",
        "model.compile(loss='binary_crossentropy',optimizer='adam',metrics=['accuracy'])\n",
        "model.summary()\n",
        "\n"
      ],
      "execution_count": 10,
      "outputs": [
        {
          "output_type": "stream",
          "text": [
            "Model: \"sequential\"\n",
            "_________________________________________________________________\n",
            "Layer (type)                 Output Shape              Param #   \n",
            "=================================================================\n",
            "embedding (Embedding)        (None, 16, 100)           13869400  \n",
            "_________________________________________________________________\n",
            "dropout (Dropout)            (None, 16, 100)           0         \n",
            "_________________________________________________________________\n",
            "conv1d (Conv1D)              (None, 12, 64)            32064     \n",
            "_________________________________________________________________\n",
            "max_pooling1d (MaxPooling1D) (None, 3, 64)             0         \n",
            "_________________________________________________________________\n",
            "lstm (LSTM)                  (None, 64)                33024     \n",
            "_________________________________________________________________\n",
            "dense (Dense)                (None, 1)                 65        \n",
            "=================================================================\n",
            "Total params: 13,934,553\n",
            "Trainable params: 65,153\n",
            "Non-trainable params: 13,869,400\n",
            "_________________________________________________________________\n"
          ],
          "name": "stdout"
        }
      ]
    },
    {
      "cell_type": "code",
      "metadata": {
        "id": "Qm-R60ryhjZo",
        "outputId": "13030171-3988-4c27-9995-391f19ff033d",
        "colab": {
          "base_uri": "https://localhost:8080/"
        }
      },
      "source": [
        "num_epochs = 50\n",
        "\n",
        "training_padded = np.array(training_sequences)\n",
        "training_labels = np.array(training_labels)\n",
        "testing_padded = np.array(test_sequences)\n",
        "testing_labels = np.array(test_labels)\n",
        "\n",
        "history = model.fit(training_padded, training_labels, epochs=num_epochs, validation_data=(testing_padded, testing_labels), verbose=2)\n",
        "\n",
        "print(\"Training Complete\")"
      ],
      "execution_count": 11,
      "outputs": [
        {
          "output_type": "stream",
          "text": [
            "Epoch 1/50\n",
            "4500/4500 - 29s - loss: 0.5686 - accuracy: 0.6977 - val_loss: 0.5318 - val_accuracy: 0.7269\n",
            "Epoch 2/50\n",
            "4500/4500 - 28s - loss: 0.5275 - accuracy: 0.7319 - val_loss: 0.5166 - val_accuracy: 0.7402\n",
            "Epoch 3/50\n",
            "4500/4500 - 30s - loss: 0.5128 - accuracy: 0.7423 - val_loss: 0.5169 - val_accuracy: 0.7389\n",
            "Epoch 4/50\n",
            "4500/4500 - 29s - loss: 0.5018 - accuracy: 0.7513 - val_loss: 0.5060 - val_accuracy: 0.7472\n",
            "Epoch 5/50\n",
            "4500/4500 - 33s - loss: 0.4928 - accuracy: 0.7558 - val_loss: 0.5108 - val_accuracy: 0.7458\n",
            "Epoch 6/50\n",
            "4500/4500 - 31s - loss: 0.4847 - accuracy: 0.7619 - val_loss: 0.5039 - val_accuracy: 0.7494\n",
            "Epoch 7/50\n",
            "4500/4500 - 29s - loss: 0.4806 - accuracy: 0.7635 - val_loss: 0.5034 - val_accuracy: 0.7486\n",
            "Epoch 8/50\n",
            "4500/4500 - 28s - loss: 0.4743 - accuracy: 0.7680 - val_loss: 0.5084 - val_accuracy: 0.7504\n",
            "Epoch 9/50\n",
            "4500/4500 - 28s - loss: 0.4708 - accuracy: 0.7709 - val_loss: 0.5037 - val_accuracy: 0.7507\n",
            "Epoch 10/50\n",
            "4500/4500 - 28s - loss: 0.4667 - accuracy: 0.7725 - val_loss: 0.5066 - val_accuracy: 0.7490\n",
            "Epoch 11/50\n",
            "4500/4500 - 29s - loss: 0.4623 - accuracy: 0.7756 - val_loss: 0.5091 - val_accuracy: 0.7496\n",
            "Epoch 12/50\n",
            "4500/4500 - 29s - loss: 0.4604 - accuracy: 0.7755 - val_loss: 0.5113 - val_accuracy: 0.7475\n",
            "Epoch 13/50\n",
            "4500/4500 - 29s - loss: 0.4565 - accuracy: 0.7792 - val_loss: 0.5105 - val_accuracy: 0.7446\n",
            "Epoch 14/50\n",
            "4500/4500 - 29s - loss: 0.4545 - accuracy: 0.7799 - val_loss: 0.5107 - val_accuracy: 0.7496\n",
            "Epoch 15/50\n",
            "4500/4500 - 29s - loss: 0.4520 - accuracy: 0.7823 - val_loss: 0.5125 - val_accuracy: 0.7481\n",
            "Epoch 16/50\n",
            "4500/4500 - 30s - loss: 0.4503 - accuracy: 0.7831 - val_loss: 0.5100 - val_accuracy: 0.7492\n",
            "Epoch 17/50\n",
            "4500/4500 - 31s - loss: 0.4491 - accuracy: 0.7837 - val_loss: 0.5080 - val_accuracy: 0.7491\n",
            "Epoch 18/50\n",
            "4500/4500 - 30s - loss: 0.4468 - accuracy: 0.7851 - val_loss: 0.5168 - val_accuracy: 0.7478\n",
            "Epoch 19/50\n",
            "4500/4500 - 29s - loss: 0.4465 - accuracy: 0.7855 - val_loss: 0.5163 - val_accuracy: 0.7495\n",
            "Epoch 20/50\n",
            "4500/4500 - 30s - loss: 0.4441 - accuracy: 0.7862 - val_loss: 0.5218 - val_accuracy: 0.7506\n",
            "Epoch 21/50\n",
            "4500/4500 - 29s - loss: 0.4437 - accuracy: 0.7877 - val_loss: 0.5150 - val_accuracy: 0.7474\n",
            "Epoch 22/50\n",
            "4500/4500 - 29s - loss: 0.4407 - accuracy: 0.7888 - val_loss: 0.5203 - val_accuracy: 0.7451\n",
            "Epoch 23/50\n",
            "4500/4500 - 28s - loss: 0.4405 - accuracy: 0.7898 - val_loss: 0.5179 - val_accuracy: 0.7446\n",
            "Epoch 24/50\n",
            "4500/4500 - 28s - loss: 0.4401 - accuracy: 0.7892 - val_loss: 0.5227 - val_accuracy: 0.7454\n",
            "Epoch 25/50\n",
            "4500/4500 - 28s - loss: 0.4384 - accuracy: 0.7905 - val_loss: 0.5155 - val_accuracy: 0.7484\n",
            "Epoch 26/50\n",
            "4500/4500 - 32s - loss: 0.4376 - accuracy: 0.7909 - val_loss: 0.5174 - val_accuracy: 0.7518\n",
            "Epoch 27/50\n",
            "4500/4500 - 29s - loss: 0.4369 - accuracy: 0.7912 - val_loss: 0.5213 - val_accuracy: 0.7462\n",
            "Epoch 28/50\n",
            "4500/4500 - 30s - loss: 0.4369 - accuracy: 0.7917 - val_loss: 0.5198 - val_accuracy: 0.7475\n",
            "Epoch 29/50\n",
            "4500/4500 - 28s - loss: 0.4358 - accuracy: 0.7907 - val_loss: 0.5268 - val_accuracy: 0.7454\n",
            "Epoch 30/50\n",
            "4500/4500 - 28s - loss: 0.4348 - accuracy: 0.7923 - val_loss: 0.5212 - val_accuracy: 0.7467\n",
            "Epoch 31/50\n",
            "4500/4500 - 28s - loss: 0.4326 - accuracy: 0.7936 - val_loss: 0.5234 - val_accuracy: 0.7473\n",
            "Epoch 32/50\n",
            "4500/4500 - 27s - loss: 0.4342 - accuracy: 0.7925 - val_loss: 0.5201 - val_accuracy: 0.7442\n",
            "Epoch 33/50\n",
            "4500/4500 - 27s - loss: 0.4338 - accuracy: 0.7929 - val_loss: 0.5230 - val_accuracy: 0.7459\n",
            "Epoch 34/50\n",
            "4500/4500 - 28s - loss: 0.4336 - accuracy: 0.7925 - val_loss: 0.5204 - val_accuracy: 0.7453\n",
            "Epoch 35/50\n",
            "4500/4500 - 27s - loss: 0.4325 - accuracy: 0.7943 - val_loss: 0.5248 - val_accuracy: 0.7442\n",
            "Epoch 36/50\n",
            "4500/4500 - 27s - loss: 0.4310 - accuracy: 0.7945 - val_loss: 0.5225 - val_accuracy: 0.7451\n",
            "Epoch 37/50\n",
            "4500/4500 - 27s - loss: 0.4317 - accuracy: 0.7944 - val_loss: 0.5256 - val_accuracy: 0.7449\n",
            "Epoch 38/50\n",
            "4500/4500 - 28s - loss: 0.4311 - accuracy: 0.7943 - val_loss: 0.5250 - val_accuracy: 0.7459\n",
            "Epoch 39/50\n",
            "4500/4500 - 28s - loss: 0.4295 - accuracy: 0.7956 - val_loss: 0.5252 - val_accuracy: 0.7442\n",
            "Epoch 40/50\n",
            "4500/4500 - 29s - loss: 0.4311 - accuracy: 0.7947 - val_loss: 0.5184 - val_accuracy: 0.7441\n",
            "Epoch 41/50\n",
            "4500/4500 - 28s - loss: 0.4296 - accuracy: 0.7956 - val_loss: 0.5245 - val_accuracy: 0.7464\n",
            "Epoch 42/50\n",
            "4500/4500 - 28s - loss: 0.4295 - accuracy: 0.7961 - val_loss: 0.5266 - val_accuracy: 0.7436\n",
            "Epoch 43/50\n",
            "4500/4500 - 28s - loss: 0.4297 - accuracy: 0.7945 - val_loss: 0.5280 - val_accuracy: 0.7419\n",
            "Epoch 44/50\n",
            "4500/4500 - 28s - loss: 0.4285 - accuracy: 0.7955 - val_loss: 0.5248 - val_accuracy: 0.7441\n",
            "Epoch 45/50\n",
            "4500/4500 - 27s - loss: 0.4290 - accuracy: 0.7963 - val_loss: 0.5264 - val_accuracy: 0.7434\n",
            "Epoch 46/50\n",
            "4500/4500 - 28s - loss: 0.4281 - accuracy: 0.7963 - val_loss: 0.5278 - val_accuracy: 0.7458\n",
            "Epoch 47/50\n",
            "4500/4500 - 28s - loss: 0.4287 - accuracy: 0.7966 - val_loss: 0.5256 - val_accuracy: 0.7474\n",
            "Epoch 48/50\n",
            "4500/4500 - 32s - loss: 0.4280 - accuracy: 0.7968 - val_loss: 0.5243 - val_accuracy: 0.7429\n",
            "Epoch 49/50\n",
            "4500/4500 - 29s - loss: 0.4280 - accuracy: 0.7951 - val_loss: 0.5248 - val_accuracy: 0.7476\n",
            "Epoch 50/50\n",
            "4500/4500 - 28s - loss: 0.4267 - accuracy: 0.7975 - val_loss: 0.5296 - val_accuracy: 0.7452\n",
            "Training Complete\n"
          ],
          "name": "stdout"
        }
      ]
    },
    {
      "cell_type": "code",
      "metadata": {
        "id": "Se8JNuVthvBZ",
        "outputId": "8d71e4b6-068e-4cc2-d591-93cc24fb3133",
        "colab": {
          "base_uri": "https://localhost:8080/",
          "height": 606
        }
      },
      "source": [
        "import matplotlib.image  as mpimg\n",
        "import matplotlib.pyplot as plt\n",
        "\n",
        "#-----------------------------------------------------------\n",
        "# Retrieve a list of list results on training and test data\n",
        "# sets for each training epoch\n",
        "#-----------------------------------------------------------\n",
        "acc=history.history['accuracy']\n",
        "val_acc=history.history['val_accuracy']\n",
        "loss=history.history['loss']\n",
        "val_loss=history.history['val_loss']\n",
        "\n",
        "epochs=range(len(acc)) # Get number of epochs\n",
        "\n",
        "#------------------------------------------------\n",
        "# Plot training and validation accuracy per epoch\n",
        "#------------------------------------------------\n",
        "plt.plot(epochs, acc, 'r')\n",
        "plt.plot(epochs, val_acc, 'b')\n",
        "plt.title('Training and validation accuracy')\n",
        "plt.xlabel(\"Epochs\")\n",
        "plt.ylabel(\"Accuracy\")\n",
        "plt.legend([\"Accuracy\", \"Validation Accuracy\"])\n",
        "\n",
        "plt.figure()\n",
        "\n",
        "#------------------------------------------------\n",
        "# Plot training and validation loss per epoch\n",
        "#------------------------------------------------\n",
        "plt.plot(epochs, loss, 'r')\n",
        "plt.plot(epochs, val_loss, 'b')\n",
        "plt.title('Training and validation loss')\n",
        "plt.xlabel(\"Epochs\")\n",
        "plt.ylabel(\"Loss\")\n",
        "plt.legend([\"Loss\", \"Validation Loss\"])\n",
        "\n",
        "plt.figure()\n"
      ],
      "execution_count": 12,
      "outputs": [
        {
          "output_type": "execute_result",
          "data": {
            "text/plain": [
              "<Figure size 432x288 with 0 Axes>"
            ]
          },
          "metadata": {
            "tags": []
          },
          "execution_count": 12
        },
        {
          "output_type": "display_data",
          "data": {
            "image/png": "[encoded data removed]",
            "text/plain": [
              "<Figure size 432x288 with 1 Axes>"
            ]
          },
          "metadata": {
            "tags": [],
            "needs_background": "light"
          }
        },
        {
          "output_type": "display_data",
          "data": {
            "image/png": "[encoded data removed]",
            "text/plain": [
              "<Figure size 432x288 with 1 Axes>"
            ]
          },
          "metadata": {
            "tags": [],
            "needs_background": "light"
          }
        },
        {
          "output_type": "display_data",
          "data": {
            "text/plain": [
              "<Figure size 432x288 with 0 Axes>"
            ]
          },
          "metadata": {
            "tags": []
          }
        }
      ]
    },
    {
      "cell_type": "code",
      "metadata": {
        "id": "DZsxeeKFowGk"
      },
      "source": [
        ""
      ],
      "execution_count": null,
      "outputs": []
    }
  ]
}