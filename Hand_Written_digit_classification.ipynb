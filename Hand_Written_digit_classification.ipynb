{
  "nbformat": 4,
  "nbformat_minor": 0,
  "metadata": {
    "colab": {
      "name": "Hand Written digit classification.ipynb",
      "provenance": [],
      "collapsed_sections": [],
      "authorship_tag": "ABX9TyN02c3te357BnGkwKLM6nws",
      "include_colab_link": true
    },
    "kernelspec": {
      "name": "python3",
      "display_name": "Python 3"
    }
  },
  "cells": [
    {
      "cell_type": "markdown",
      "metadata": {
        "id": "view-in-github",
        "colab_type": "text"
      },
      "source": [
        "<a href=\"https://colab.research.google.com/github/alexc957/Tensorflow-2-Practice/blob/main/Hand_Written_digit_classification.ipynb\" target=\"_parent\"><img src=\"https://colab.research.google.com/assets/colab-badge.svg\" alt=\"Open In Colab\"/></a>"
      ]
    },
    {
      "cell_type": "markdown",
      "metadata": {
        "id": "W2O-KZvjWAE-"
      },
      "source": [
        "### Load the data and preprocess it "
      ]
    },
    {
      "cell_type": "code",
      "metadata": {
        "id": "sDeGerrAxLKz",
        "outputId": "9b50711c-494b-4614-9da9-6bda5bf8c932",
        "colab": {
          "base_uri": "https://localhost:8080/",
          "height": 50
        }
      },
      "source": [
        "import tensorflow as tf \n",
        "mnist = tf.keras.datasets.mnist\n",
        "(x_train,y_train),(x_test,y_test) = mnist.load_data()\n",
        "x_train = x_train/255.\n",
        "x_test = x_test/255.\n"
      ],
      "execution_count": null,
      "outputs": [
        {
          "output_type": "stream",
          "text": [
            "Downloading data from https://storage.googleapis.com/tensorflow/tf-keras-datasets/mnist.npz\n",
            "11493376/11490434 [==============================] - 0s 0us/step\n"
          ],
          "name": "stdout"
        }
      ]
    },
    {
      "cell_type": "markdown",
      "metadata": {
        "id": "en-SfmuHWE_M"
      },
      "source": [
        "### create a custom callback to stop training after reaching an accuracy greater that 0.97"
      ]
    },
    {
      "cell_type": "code",
      "metadata": {
        "id": "MW_hMSrW1bW0"
      },
      "source": [
        "class MyCallBack(tf.keras.callbacks.Callback):\n",
        "  def on_epoch_end(self,epoch,logs={}):\n",
        "    if(logs.get('accuracy')>0.97):\n",
        "      print(\"reached 0.97 accuracy so cancelling training\")\n",
        "      self.model.stop_training = True"
      ],
      "execution_count": null,
      "outputs": []
    },
    {
      "cell_type": "markdown",
      "metadata": {
        "id": "hvQhlqoBWRqF"
      },
      "source": [
        "### create the model and train it and use the validation data to test the model's performance "
      ]
    },
    {
      "cell_type": "code",
      "metadata": {
        "id": "eMtWDwdtz_Q6",
        "outputId": "95a953af-e5fe-4e1d-d157-3b29ca5902a3",
        "colab": {
          "base_uri": "https://localhost:8080/",
          "height": 168
        }
      },
      "source": [
        "model = tf.keras.models.Sequential(\n",
        "    [\n",
        "     tf.keras.layers.Flatten(input_shape=(28,28)),\n",
        "      tf.keras.layers.Dense(64,activation=tf.nn.relu),\n",
        "      tf.keras.layers.Dense(10,activation=tf.nn.softmax)\n",
        "\n",
        "     ]\n",
        ")\n",
        "\n",
        "model.compile(optimizer='adam',\n",
        "              loss='sparse_categorical_crossentropy',\n",
        "              metrics=['accuracy'])\n",
        "callback = MyCallBack()\n",
        "history = model.fit(x_train,\n",
        "          y_train,\n",
        "          epochs=10,\n",
        "          validation_data=(x_test,y_test),callbacks=[callback])"
      ],
      "execution_count": null,
      "outputs": [
        {
          "output_type": "stream",
          "text": [
            "Epoch 1/10\n",
            "1875/1875 [==============================] - 3s 2ms/step - loss: 0.2987 - accuracy: 0.9165 - val_loss: 0.1794 - val_accuracy: 0.9457\n",
            "Epoch 2/10\n",
            "1875/1875 [==============================] - 3s 2ms/step - loss: 0.1414 - accuracy: 0.9583 - val_loss: 0.1274 - val_accuracy: 0.9611\n",
            "Epoch 3/10\n",
            "1875/1875 [==============================] - 3s 2ms/step - loss: 0.1029 - accuracy: 0.9698 - val_loss: 0.1078 - val_accuracy: 0.9670\n",
            "Epoch 4/10\n",
            "1873/1875 [============================>.] - ETA: 0s - loss: 0.0804 - accuracy: 0.9755reached 0.97 accuracy so cancelling training\n",
            "1875/1875 [==============================] - 3s 2ms/step - loss: 0.0804 - accuracy: 0.9755 - val_loss: 0.1013 - val_accuracy: 0.9685\n"
          ],
          "name": "stdout"
        }
      ]
    },
    {
      "cell_type": "code",
      "metadata": {
        "id": "0X9q2IjLWY8I"
      },
      "source": [
        "import matplotlib.pyplot as plt \n",
        "%matplotlib inline \n",
        "\n",
        "def plot_curves(train_results,validation_results,y_label='accuracy'):\n",
        "  epochs = range(1,len(train_results)+1)\n",
        "  plt.plot(epochs,train_results,label='train')\n",
        "  plt.plot(epochs,validation_results)\n",
        "  plt.ylabel(y_label)\n",
        "  plt.xlabel('epochs')\n",
        "  plt.title(f'{y_label} vs epochs')\n",
        "  plt.show()"
      ],
      "execution_count": null,
      "outputs": []
    },
    {
      "cell_type": "code",
      "metadata": {
        "id": "bKD-JPnZ0pSI",
        "outputId": "4bbd51ee-f35f-493c-e88f-b472280bc3bb",
        "colab": {
          "base_uri": "https://localhost:8080/",
          "height": 295
        }
      },
      "source": [
        "plot_curves(history.history.get('accuracy'),history.history.get('val_accuracy'), y_label='accuracy')"
      ],
      "execution_count": null,
      "outputs": [
        {
          "output_type": "display_data",
          "data": {
            "image/png": "[encoded data removed]",
            "text/plain": [
              "<Figure size 432x288 with 1 Axes>"
            ]
          },
          "metadata": {
            "tags": [],
            "needs_background": "light"
          }
        }
      ]
    },
    {
      "cell_type": "code",
      "metadata": {
        "id": "xImcv5aNXMU4",
        "outputId": "8df77992-e4da-4e21-fa42-fae2aa7fd5c8",
        "colab": {
          "base_uri": "https://localhost:8080/",
          "height": 295
        }
      },
      "source": [
        "plot_curves(history.history.get('loss'),history.history.get('val_loss'), y_label='loss')"
      ],
      "execution_count": null,
      "outputs": [
        {
          "output_type": "display_data",
          "data": {
            "image/png": "[encoded data removed]",
            "text/plain": [
              "<Figure size 432x288 with 1 Axes>"
            ]
          },
          "metadata": {
            "tags": [],
            "needs_background": "light"
          }
        }
      ]
    },
    {
      "cell_type": "code",
      "metadata": {
        "id": "jT1WxBU3XNvb"
      },
      "source": [
        ""
      ],
      "execution_count": null,
      "outputs": []
    },
    {
      "cell_type": "markdown",
      "metadata": {
        "id": "5AqUOQWgXPf3"
      },
      "source": [
        "### Results: this one show good results without overfitting \n"
      ]
    },
    {
      "cell_type": "code",
      "metadata": {
        "id": "DV8FddtRXUqw"
      },
      "source": [
        ""
      ],
      "execution_count": null,
      "outputs": []
    }
  ]
}